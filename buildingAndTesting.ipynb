{
 "cells": [
  {
   "cell_type": "code",
   "execution_count": 106,
   "metadata": {},
   "outputs": [],
   "source": [
    "import numpy as np\n",
    "import pandas as pd\n",
    "import matplotlib.pyplot as plt\n",
    "import scipy.stats as st\n",
    "from sklearn import tree\n",
    "from sklearn.svm import LinearSVC\n",
    "from sklearn.neighbors import KNeighborsClassifier\n",
    "from sklearn.ensemble import RandomForestClassifier"
   ]
  },
  {
   "cell_type": "code",
   "execution_count": 107,
   "metadata": {},
   "outputs": [],
   "source": [
    "def testStrategy(prices, signals):\n",
    "    pnl = 0\n",
    "    tradenum = 0\n",
    "    for i in range(len(prices)):\n",
    "        for j in range(len(signals[i])):\n",
    "            if (signals[i][j] == 1): #buy\n",
    "                pnl -= prices[i][j]\n",
    "                tradenum += 1\n",
    "            if (signals[i][j] == -1): #sell\n",
    "                pnl += prices[i][j]\n",
    "                tradenum += 1\n",
    "    return pnl, tradenum\n",
    "\n",
    "def tradeHist(prices, signals):\n",
    "    tradehistfinal = []\n",
    "    for i in range(len(prices)):\n",
    "        tradeList = []\n",
    "        tradeTrack = [0,0]\n",
    "        for j in range(len(signals[i])):\n",
    "            if signals[i][j] == 1: #buy\n",
    "                tradeTrack[0] -= prices[i][j]\n",
    "                tradeTrack[1] += 1\n",
    "            if (signals[i][j] == -1): #sell\n",
    "                tradeTrack[0] += prices[i][j]\n",
    "                tradeTrack[1] += 1\n",
    "            if (tradeTrack[1] % 2 == 0 and tradeTrack[1] > 0):\n",
    "                tradeList.append(tradeTrack[0])\n",
    "                tradeTrack[0] = 0\n",
    "        tradehistfinal.append(tradeList)\n",
    "    return tradehistfinal\n",
    "\n",
    "def signalToXY(signal):\n",
    "    signal = [0,0,0,0] + list(signal) + [0]\n",
    "    trade = False\n",
    "    for i in range(len(signal)):\n",
    "        if (trade == True):\n",
    "            signal[i] = -1*signal[i-1]\n",
    "            trade = False\n",
    "            continue\n",
    "\n",
    "        if signal[i] != 0:\n",
    "            trade = True\n",
    "            \n",
    "    XSignal = []\n",
    "    YSignal = []\n",
    "    for i in range(len(signal)):\n",
    "        if (signal[i] == 1):\n",
    "            XSignal.append(1)\n",
    "            YSignal.append(-1)\n",
    "            continue\n",
    "        if (signal[i] == -1):\n",
    "            XSignal.append(-1)\n",
    "            YSignal.append(1)\n",
    "            continue\n",
    "        XSignal.append(0)\n",
    "        YSignal.append(0)\n",
    "    return XSignal, YSignal\n",
    "\n",
    "def all_same(items):\n",
    "    return all(x == items[0] for x in items)"
   ]
  },
  {
   "cell_type": "code",
   "execution_count": 108,
   "metadata": {
    "scrolled": true
   },
   "outputs": [],
   "source": [
    "dfXMaster = []\n",
    "dfYMaster = []\n",
    "signalXMaster = []\n",
    "signalYMaster = []\n",
    "signalXYMaster =  []\n",
    "for i in range(1,12):\n",
    "    dfX = pd.read_csv(\".\\\\data\\\\dfX\" + str(i) + \".csv\")\n",
    "    dfY = pd.read_csv(\".\\\\data\\\\dfY\" + str(i) + \".csv\")\n",
    "    signalX = pd.read_csv(\".\\\\data\\\\signalX\" + str(i) + \".csv\")\n",
    "    signalY = pd.read_csv(\".\\\\data\\\\signalY\" + str(i) + \".csv\")\n",
    "\n",
    "    signalY.rename(columns={\"x\": \"y\"}, inplace = True)\n",
    "    dfX['mid'] = dfX['mid'].apply(lambda x: x/100)\n",
    "    dfY['mid'] = dfY['mid'].apply(lambda x: x/100)\n",
    "    signalXY = pd.DataFrame()\n",
    "    signalXY['xy'] = -signalY['y']+signalX['x']\n",
    "    \n",
    "    dfXMaster.extend(list(dfX['mid']))\n",
    "    dfYMaster.extend(list(dfY['mid']))\n",
    "    signalXMaster.extend(list(signalX['x']))\n",
    "    signalYMaster.extend(list(signalY['y']))\n",
    "    signalXYMaster.extend(list(signalXY['xy']))"
   ]
  },
  {
   "cell_type": "code",
   "execution_count": 109,
   "metadata": {},
   "outputs": [
    {
     "data": {
      "text/plain": [
       "[<matplotlib.lines.Line2D at 0x1efbdff5c18>]"
      ]
     },
     "execution_count": 109,
     "metadata": {},
     "output_type": "execute_result"
    },
    {
     "data": {
      "image/png": "[encoded data removed]",
      "text/plain": [
       "<Figure size 432x288 with 1 Axes>"
      ]
     },
     "metadata": {
      "needs_background": "light"
     },
     "output_type": "display_data"
    }
   ],
   "source": [
    "plt.plot(signalXY['xy'])"
   ]
  },
  {
   "cell_type": "code",
   "execution_count": 110,
   "metadata": {},
   "outputs": [],
   "source": [
    "#generate simple signals\n",
    "simpleSignalsX = []\n",
    "simpleSignalsY = []\n",
    "status = 0\n",
    "for i in range(len(dfXMaster)):\n",
    "    if (status == -1):\n",
    "        simpleSignalsX.append(1)\n",
    "        simpleSignalsY.append(-1)\n",
    "        status = 0\n",
    "        continue\n",
    "    if (status == 1):\n",
    "        simpleSignalsX.append(-1)\n",
    "        simpleSignalsY.append(1)\n",
    "        status = 0\n",
    "        continue\n",
    "    if (signalXYMaster[i] < -0.1 and status == 0): #long the spread\n",
    "        simpleSignalsX.append(-1)\n",
    "        simpleSignalsY.append(1)\n",
    "        status = -1\n",
    "    elif (signalXYMaster[i] > 0.1 and status == 0): #short the spread\n",
    "        simpleSignalsX.append(1)\n",
    "        simpleSignalsY.append(-1)\n",
    "        status = 1\n",
    "    else:\n",
    "        simpleSignalsX.append(0)\n",
    "        simpleSignalsY.append(0)"
   ]
  },
  {
   "cell_type": "code",
   "execution_count": 111,
   "metadata": {},
   "outputs": [
    {
     "data": {
      "text/plain": [
       "(2.900000000000375, 46916)"
      ]
     },
     "execution_count": 111,
     "metadata": {},
     "output_type": "execute_result"
    }
   ],
   "source": [
    "testStrategy([dfXMaster, dfYMaster], [simpleSignalsX, simpleSignalsY])"
   ]
  },
  {
   "cell_type": "code",
   "execution_count": 112,
   "metadata": {},
   "outputs": [
    {
     "data": {
      "text/plain": [
       "6.18126012447859e-05"
      ]
     },
     "execution_count": 112,
     "metadata": {},
     "output_type": "execute_result"
    }
   ],
   "source": [
    "2.900000000000375/46916"
   ]
  },
  {
   "cell_type": "code",
   "execution_count": null,
   "metadata": {},
   "outputs": [],
   "source": []
  },
  {
   "cell_type": "code",
   "execution_count": 113,
   "metadata": {},
   "outputs": [
    {
     "data": {
      "text/plain": [
       "15840"
      ]
     },
     "execution_count": 113,
     "metadata": {},
     "output_type": "execute_result"
    }
   ],
   "source": [
    "15840"
   ]
  },
  {
   "cell_type": "code",
   "execution_count": null,
   "metadata": {},
   "outputs": [],
   "source": []
  },
  {
   "cell_type": "code",
   "execution_count": 114,
   "metadata": {},
   "outputs": [],
   "source": [
    "######build out way to test for ML use of patterns"
   ]
  },
  {
   "cell_type": "code",
   "execution_count": 115,
   "metadata": {},
   "outputs": [],
   "source": [
    "#generate ML classification signals\n",
    "#x = [previous5midpoint values, allSameOrNot, xySignal]\n",
    "X = []\n",
    "y = []\n",
    "status = 0\n",
    "for i in range(4, int(len(dfXMaster))-1):\n",
    "    tmpX = []\n",
    "    tmpY = []\n",
    "    previousMids = list(dfXMaster[i-4:i+1])\n",
    "    tmpX = previousMids + [int(all_same(previousMids))] +  [signalXYMaster[i]]\n",
    "    longProf = (dfXMaster[i+1] - dfXMaster[i]) + (dfYMaster[i] - dfYMaster[i+1])\n",
    "    shortProf = (dfXMaster[i] - dfXMaster[i+1]) + (dfYMaster[i+1] - dfYMaster[i])\n",
    "    tmpY = 0\n",
    "    if (longProf > 0.001):\n",
    "        tmpY = 1\n",
    "    if (shortProf > 0.001):\n",
    "        tmpY = -1\n",
    "    X.append(tmpX)\n",
    "    y.append(tmpY)"
   ]
  },
  {
   "cell_type": "code",
   "execution_count": 116,
   "metadata": {},
   "outputs": [
    {
     "data": {
      "text/plain": [
       "KNeighborsClassifier(algorithm='auto', leaf_size=30, metric='minkowski',\n",
       "                     metric_params=None, n_jobs=None, n_neighbors=3, p=2,\n",
       "                     weights='uniform')"
      ]
     },
     "execution_count": 116,
     "metadata": {},
     "output_type": "execute_result"
    }
   ],
   "source": [
    "neigh = KNeighborsClassifier(n_neighbors=3)\n",
    "neigh.fit(X[:int(len(X)/2)], y[:int(len(y)/2)])"
   ]
  },
  {
   "cell_type": "code",
   "execution_count": 117,
   "metadata": {},
   "outputs": [
    {
     "data": {
      "text/plain": [
       "[<matplotlib.lines.Line2D at 0x1efb5b518d0>]"
      ]
     },
     "execution_count": 117,
     "metadata": {},
     "output_type": "execute_result"
    },
    {
     "data": {
      "image/png": "[encoded data removed]",
      "text/plain": [
       "<Figure size 432x288 with 1 Axes>"
      ]
     },
     "metadata": {
      "needs_background": "light"
     },
     "output_type": "display_data"
    }
   ],
   "source": [
    "plt.plot(neigh.predict(X[int(len(X)/2):]))"
   ]
  },
  {
   "cell_type": "code",
   "execution_count": 118,
   "metadata": {},
   "outputs": [
    {
     "data": {
      "text/plain": [
       "RandomForestClassifier(bootstrap=True, ccp_alpha=0.0, class_weight=None,\n",
       "                       criterion='gini', max_depth=None, max_features='auto',\n",
       "                       max_leaf_nodes=None, max_samples=None,\n",
       "                       min_impurity_decrease=0.0, min_impurity_split=None,\n",
       "                       min_samples_leaf=1, min_samples_split=2,\n",
       "                       min_weight_fraction_leaf=0.0, n_estimators=10,\n",
       "                       n_jobs=None, oob_score=False, random_state=None,\n",
       "                       verbose=0, warm_start=False)"
      ]
     },
     "execution_count": 118,
     "metadata": {},
     "output_type": "execute_result"
    }
   ],
   "source": [
    "rf = RandomForestClassifier(n_estimators=10)\n",
    "rf.fit(X[:int(len(X)/2)], y[:int(len(y)/2)])"
   ]
  },
  {
   "cell_type": "code",
   "execution_count": 119,
   "metadata": {},
   "outputs": [
    {
     "data": {
      "text/plain": [
       "[<matplotlib.lines.Line2D at 0x1efb5b048d0>]"
      ]
     },
     "execution_count": 119,
     "metadata": {},
     "output_type": "execute_result"
    },
    {
     "data": {
      "image/png": "[encoded data removed]",
      "text/plain": [
       "<Figure size 432x288 with 1 Axes>"
      ]
     },
     "metadata": {
      "needs_background": "light"
     },
     "output_type": "display_data"
    }
   ],
   "source": [
    "plt.plot(rf.predict(X[int(len(X)/2):]))"
   ]
  },
  {
   "cell_type": "code",
   "execution_count": 120,
   "metadata": {},
   "outputs": [
    {
     "data": {
      "text/plain": [
       "DecisionTreeClassifier(ccp_alpha=0.0, class_weight=None, criterion='gini',\n",
       "                       max_depth=None, max_features=None, max_leaf_nodes=None,\n",
       "                       min_impurity_decrease=0.0, min_impurity_split=None,\n",
       "                       min_samples_leaf=1, min_samples_split=2,\n",
       "                       min_weight_fraction_leaf=0.0, presort='deprecated',\n",
       "                       random_state=None, splitter='best')"
      ]
     },
     "execution_count": 120,
     "metadata": {},
     "output_type": "execute_result"
    }
   ],
   "source": [
    "tree = tree.DecisionTreeClassifier()\n",
    "tree.fit(X[:int(len(X)/2)], y[:int(len(y)/2)])"
   ]
  },
  {
   "cell_type": "code",
   "execution_count": 121,
   "metadata": {},
   "outputs": [
    {
     "data": {
      "text/plain": [
       "[<matplotlib.lines.Line2D at 0x1efb5bb7588>]"
      ]
     },
     "execution_count": 121,
     "metadata": {},
     "output_type": "execute_result"
    },
    {
     "data": {
      "image/png": "[encoded data removed]",
      "text/plain": [
       "<Figure size 432x288 with 1 Axes>"
      ]
     },
     "metadata": {
      "needs_background": "light"
     },
     "output_type": "display_data"
    }
   ],
   "source": [
    "plt.plot(tree.predict(X[int(len(X)/2):]))"
   ]
  },
  {
   "cell_type": "code",
   "execution_count": null,
   "metadata": {},
   "outputs": [],
   "source": []
  },
  {
   "cell_type": "code",
   "execution_count": 122,
   "metadata": {},
   "outputs": [
    {
     "data": {
      "text/plain": [
       "(2.900000000000375, 46916)"
      ]
     },
     "execution_count": 122,
     "metadata": {},
     "output_type": "execute_result"
    }
   ],
   "source": [
    "testStrategy([dfXMaster, dfYMaster], [simpleSignalsX, simpleSignalsY])"
   ]
  },
  {
   "cell_type": "code",
   "execution_count": 123,
   "metadata": {},
   "outputs": [
    {
     "data": {
      "text/plain": [
       "(0.12250000000001648, 7496)"
      ]
     },
     "execution_count": 123,
     "metadata": {},
     "output_type": "execute_result"
    }
   ],
   "source": [
    "testStrategy([dfXMaster[int(len(X)/2):], dfYMaster[int(len(X)/2):]], signalToXY(neigh.predict(X[int(len(X)/2):])))"
   ]
  },
  {
   "cell_type": "code",
   "execution_count": 124,
   "metadata": {},
   "outputs": [
    {
     "data": {
      "text/plain": [
       "(0.18500000000021544, 10768)"
      ]
     },
     "execution_count": 124,
     "metadata": {},
     "output_type": "execute_result"
    }
   ],
   "source": [
    "testStrategy([dfXMaster[int(len(X)/2):], dfYMaster[int(len(X)/2):]], signalToXY(rf.predict(X[int(len(X)/2):])))"
   ]
  },
  {
   "cell_type": "code",
   "execution_count": 125,
   "metadata": {},
   "outputs": [
    {
     "data": {
      "text/plain": [
       "(0.3025000000000375, 17316)"
      ]
     },
     "execution_count": 125,
     "metadata": {},
     "output_type": "execute_result"
    }
   ],
   "source": [
    "testStrategy([dfXMaster[int(len(X)/2):], dfYMaster[int(len(X)/2):]], signalToXY(tree.predict(X[int(len(X)/2):])))"
   ]
  },
  {
   "cell_type": "code",
   "execution_count": null,
   "metadata": {},
   "outputs": [],
   "source": []
  }
 ],
 "metadata": {
  "kernelspec": {
   "display_name": "Python 3",
   "language": "python",
   "name": "python3"
  },
  "language_info": {
   "codemirror_mode": {
    "name": "ipython",
    "version": 3
   },
   "file_extension": ".py",
   "mimetype": "text/x-python",
   "name": "python",
   "nbconvert_exporter": "python",
   "pygments_lexer": "ipython3",
   "version": "3.6.4"
  }
 },
 "nbformat": 4,
 "nbformat_minor": 2
}
